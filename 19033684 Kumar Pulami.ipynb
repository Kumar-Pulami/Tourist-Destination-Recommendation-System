{
 "cells": [
  {
   "cell_type": "markdown",
   "id": "cc884ada",
   "metadata": {},
   "source": [
    "#                     Tourist Destination Recommendation System"
   ]
  },
  {
   "cell_type": "markdown",
   "id": "ae0fda64",
   "metadata": {},
   "source": [
    "# Importing libraries."
   ]
  },
  {
   "cell_type": "code",
   "execution_count": 7,
   "id": "f01310ad",
   "metadata": {},
   "outputs": [],
   "source": [
    "#Importing Liabrires\n",
    "import pandas as pd\n",
    "import numpy as np\n",
    "pd.set_option('display.max_columns', 500)\n",
    "pd.set_option('display.width', 1000)"
   ]
  },
  {
   "cell_type": "markdown",
   "id": "dea2cc4a",
   "metadata": {},
   "source": [
    "# Loading Datasets."
   ]
  },
  {
   "cell_type": "code",
   "execution_count": 8,
   "id": "a5425d69",
   "metadata": {},
   "outputs": [
    {
     "name": "stdout",
     "output_type": "stream",
     "text": [
      "                  Pokhara  Kathmandu  Surkhet  Lumbini  Dopla  Illam  Mustang  Maygdi  Rolpa\n",
      "Users                                                                                       \n",
      "Kumar Pulami          9.0          8      9.0      NaN    4.0    6.0      6.0     NaN    NaN\n",
      "Sashwot Dhital        8.0          7      5.0      4.0    7.0    7.0      NaN     NaN    6.0\n",
      "Ashim Nepal           8.0          8      3.0      NaN    7.0    8.0      NaN     5.0    NaN\n",
      "Bandana Simkhada      9.0          5      5.0      NaN    8.0    NaN      NaN     7.0    7.0\n",
      "Parbati Shrestha      8.0          4      7.0      6.0    NaN    NaN      6.0     NaN    8.0\n",
      "Rosha Adhikari        8.0          6      NaN      5.0    9.0    NaN      8.0     6.0    NaN\n",
      "Prakash Khadka        NaN          7      7.0      8.0    5.0    NaN      NaN     6.0    8.0\n",
      "Ramesh Budha          5.0          8      5.0      5.0    7.0    NaN      7.0     NaN    6.0\n"
     ]
    }
   ],
   "source": [
    "#importing data from csv file.\n",
    "datasets = pd.read_csv(\"DataSets.csv\");\n",
    "\n",
    "#defining index as User.\n",
    "datasets.set_index('Users', inplace=True);\n",
    "\n",
    "#displaying the data sets\n",
    "print(datasets.head(20));"
   ]
  },
  {
   "cell_type": "markdown",
   "id": "414cdf30",
   "metadata": {},
   "source": [
    "# Selecting user who will get recommend."
   ]
  },
  {
   "cell_type": "code",
   "execution_count": 9,
   "id": "5b107eac",
   "metadata": {},
   "outputs": [
    {
     "name": "stdout",
     "output_type": "stream",
     "text": [
      "List of User:\n",
      "\n",
      "Kumar Pulami\n",
      "Sashwot Dhital\n",
      "Ashim Nepal\n",
      "Bandana Simkhada\n",
      "Parbati Shrestha\n",
      "Rosha Adhikari\n",
      "Prakash Khadka\n",
      "Ramesh Budha\n",
      "\n",
      "******************************************************************************************\n",
      "Enter the UserName to get recommendation: Ramesh Budha\n",
      "******************************************************************************************\n",
      "\n"
     ]
    }
   ],
   "source": [
    "#getting and storing all user names only to list.\n",
    "userList = datasets.index.values;\n",
    "\n",
    "#Listing the all the usernames stored in list.\n",
    "print(\"List of User:\")\n",
    "print()\n",
    "for user in userList:\n",
    "    print(user)\n",
    "    \n",
    "#Asking to select user who wil get the recommendation.\n",
    "print()\n",
    "print(\"******************************************************************************************\")\n",
    "selectedUser = input (\"Enter the UserName to get recommendation: \");\n",
    "print(\"******************************************************************************************\")\n",
    "print()\n",
    "\n",
    "#Storing all the user names expect selected user in order to find similarites.\n",
    "remainingUser = np.delete(userList, np.where(userList == selectedUser))"
   ]
  },
  {
   "cell_type": "markdown",
   "id": "c2985d50",
   "metadata": {},
   "source": [
    "# Helping Methods."
   ]
  },
  {
   "cell_type": "code",
   "execution_count": 10,
   "id": "7fc835c2",
   "metadata": {},
   "outputs": [],
   "source": [
    "# Method to calculate Pearson Correlation Coefficient bewteen selected two users.\n",
    "def calculatePearson(x,y):\n",
    "    #implementing Pearson Correlation Coefficient\n",
    "    upperPortion = sum((x-np.mean(x))*(y-np.mean(y)))\n",
    "    lowerPortion = pow(sum(pow(x-np.mean(x),2)),0.5)*pow(sum(pow(y-np.mean(y),2)),0.5)\n",
    "    \n",
    "    return upperPortion/lowerPortion    \n",
    "    \n",
    "\n",
    "# Method to return the sum of all user Pearson Correlation Coefficient.\n",
    "def sumPearsonValue(pearsonlist):\n",
    "    sum=0\n",
    "    for value in pearsonlist:\n",
    "        sum = sum + value[1]\n",
    "    return sum\n",
    "\n",
    "\n",
    "# Method to recommend the tourist destination.\n",
    "# Parameters:\n",
    "# 1. List of destination which is not rated by selected users. \n",
    "# 2. List of each user's pearson value respective to selected users.\n",
    "# 3. List of user expect selected user.\n",
    "def getRecommendation(destinationList, calculatedPearsonValues, userList):\n",
    "    # Initalize the empty list to store destination name and its predicted rating value.\n",
    "    recommendation = [];\n",
    "    for destination in destinationList: # Iterating  destination in destinationList\n",
    "        pearsonValues = calculatedPearsonValues;\n",
    "        sumPearson = 0.0;\n",
    "        sumPearsonRating = 0.0;\n",
    "        predictedRating = 0.0;\n",
    "        for user in userList: # Iterating users in userList\n",
    "            pearsonValue = 0\n",
    "            if pd.notnull(datasets.loc[user][destination]): # if current user has rated on current destination,\n",
    "                                                            # get pearson value, multiply with his destiantion rating, \n",
    "                                                            # and adding it with other user value .\n",
    "                for pearson in pearsonValues:\n",
    "                    if user == pearson[0]: \n",
    "                        if (pearson[1] >= 0): \n",
    "                            pearsonValue = pearson[1];\n",
    "                            sumPearsonRating = sumPearsonRating + (pearsonValue * datasets.loc[user][destination]);\n",
    "                        else:\n",
    "                            pearsonValue = 0\n",
    "                            pearsonValues.remove(pearson)   # getting the pearson value of current user respective to selected user.\n",
    "                        \n",
    "                # Multiplying the current user rating of current destination with current user pearson value, \n",
    "                #adding it with other value.       \n",
    "                #sumPearsonRating = sumPearsonRating + (pearsonValue * datasets.loc[user][destination]); \n",
    "                \n",
    "            elif pd.isnull(datasets.loc[user][destination]): \n",
    "                # else removing the current pearson value from the list to avoid adding current pearson value.\n",
    "                for pearson in pearsonValues:\n",
    "                    if user == pearson[0]:\n",
    "                        pearsonValues.remove(pearson);\n",
    "        sumPearson = sumPearsonValue(pearsonValues);# Calling method to sum all the user pearson value who rated the destination.\n",
    "        if (sumPearson != 0):\n",
    "            predictedRating = sumPearsonRating/sumPearson; # Prediction the user rating on current destination.\n",
    "            recommendation.append([destination, predictedRating]); # Saving destination with predicted rating value.\n",
    "    return recommendation;"
   ]
  },
  {
   "cell_type": "markdown",
   "id": "e5953159",
   "metadata": {},
   "source": [
    "# Calculating Pearson Correlation Coefficient."
   ]
  },
  {
   "cell_type": "code",
   "execution_count": 11,
   "id": "da93f162",
   "metadata": {
    "scrolled": false
   },
   "outputs": [],
   "source": [
    "destinationList = datasets.columns; # List to store all destination names.\n",
    "ratedDestination = []; # List to store rated destination by selected user.\n",
    "nonratedDestination =[]; # List to store destination that isnot rated by select user\n",
    "                            # and will be used to recommend.\n",
    "\n",
    "# Seperating the destination based on rate and not rated by selected user.\n",
    "for destination in destinationList:\n",
    "    if pd.notnull(datasets.loc[selectedUser][destination]): # if selected user has rated the current destination,  \n",
    "        ratedDestination.append(destination);               # adding this destination to ratedDestination list.\n",
    "        \n",
    "    else:                                         # if selected user hasn't rated the current destination, adding \n",
    "        nonratedDestination.append(destination);  # adding this destination to nonratedDestination list.\n",
    "            \n",
    "        \n",
    "selectUserRating = []; # List to store rating of selected user.\n",
    "comparingUserRating = []; # List to store rating of user whom is going to calcute the pearson value with current user.\n",
    "pearsonValueList = []; # list to store username and their pearson value.\n",
    "\n",
    "for user in remainingUser: # Iterating the all user expect selected user         \n",
    "    for destination in ratedDestination: # Iterating the destination which is rated by the selected user.\n",
    "        if pd.notnull(datasets.loc[user][destination]): # if iterated user has rated the iterated rated destination by selectd user\n",
    "            comparingUserRating.append(datasets.loc[user][destination]); # Adding rating of destination rated by iterated user to comparingUserRating list.\n",
    "            selectUserRating.append(datasets.loc[selectedUser][destination]); # Adding rating of destination rated by iterated user to selectUserRating list.\n",
    "    value = calculatePearson(selectUserRating, comparingUserRating);# calculating the pearson value passing the rating of iterated user and selected user\n",
    "    pearsonValueList.append([user, value]); # adding value to pearsonValue list.\n",
    "    selectUserRating.clear(); # clearing the value of selectUserRating list.\n",
    "    comparingUserRating.clear(); # clearing the value of comparingUserRating list."
   ]
  },
  {
   "cell_type": "markdown",
   "id": "727dbac3",
   "metadata": {},
   "source": [
    "# Calculating Recommendation."
   ]
  },
  {
   "cell_type": "code",
   "execution_count": 12,
   "id": "51944974",
   "metadata": {},
   "outputs": [
    {
     "name": "stdout",
     "output_type": "stream",
     "text": [
      "\n",
      "******************************************************************************************\n",
      "Recommended List Of Destination:\n",
      "******************************************************************************************\n",
      "Illam\n",
      "\n",
      "[['Illam', 7.544410277945063], ['Maygdi', 5.0]]\n"
     ]
    }
   ],
   "source": [
    "# Calling getRecommendation method.\n",
    "recommendation = getRecommendation(nonratedDestination, pearsonValueList, remainingUser)\n",
    "print()\n",
    "print(\"******************************************************************************************\")\n",
    "print(\"Recommended List Of Destination:\")\n",
    "print(\"******************************************************************************************\")\n",
    " # Iterating the destination\n",
    "for destination in recommendation:\n",
    "    if destination[1] >= 6: # if the predected rating of iterated destination is greater than  or equal to 6, show destination as recommendaiton.\n",
    "        print(destination[0])\n",
    "        print()\n",
    "print(recommendation)"
   ]
  },
  {
   "cell_type": "code",
   "execution_count": null,
   "id": "83564e81",
   "metadata": {},
   "outputs": [],
   "source": []
  }
 ],
 "metadata": {
  "kernelspec": {
   "display_name": "Python 3 (ipykernel)",
   "language": "python",
   "name": "python3"
  },
  "language_info": {
   "codemirror_mode": {
    "name": "ipython",
    "version": 3
   },
   "file_extension": ".py",
   "mimetype": "text/x-python",
   "name": "python",
   "nbconvert_exporter": "python",
   "pygments_lexer": "ipython3",
   "version": "3.9.7"
  }
 },
 "nbformat": 4,
 "nbformat_minor": 5
}
